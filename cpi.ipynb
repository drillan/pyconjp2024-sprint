{
 "cells": [
  {
   "cell_type": "markdown",
   "metadata": {},
   "source": [
    "# 消費者物価指数\n",
    "\n",
    "> 財務省統計局 > 統計データ > 消費者物価指数（CPI）\n",
    "> \n",
    "> https://www.stat.go.jp/data/cpi/index.html"
   ]
  },
  {
   "cell_type": "code",
   "execution_count": 1,
   "metadata": {},
   "outputs": [],
   "source": [
    "from io import StringIO\n",
    "import os\n",
    "from urllib import parse\n",
    "import requests\n",
    "import pandas as pd"
   ]
  },
  {
   "cell_type": "code",
   "execution_count": 2,
   "metadata": {},
   "outputs": [],
   "source": [
    "api_version = \"3.0\"\n",
    "appid = os.environ[\"APPID\"]\n",
    "sid = \"0003427113\"\n",
    "params = {\"appId\": appid, \"statsDataId\": sid}\n",
    "base_url = \"https://api.e-stat.go.jp\"\n",
    "meta_url = parse.urljoin(base_url, f\"/rest/{api_version}/app/json/getMetaInfo?\")"
   ]
  },
  {
   "cell_type": "markdown",
   "metadata": {},
   "source": [
    "メタ情報から、総件数を確認\n",
    "\n",
    "> https://www.e-stat.go.jp/api/api-info/e-stat-manual3-0#api_4_3"
   ]
  },
  {
   "cell_type": "code",
   "execution_count": 3,
   "metadata": {},
   "outputs": [
    {
     "data": {
      "text/plain": [
       "12991213"
      ]
     },
     "execution_count": 3,
     "metadata": {},
     "output_type": "execute_result"
    }
   ],
   "source": [
    "meta_res = requests.get(meta_url, params=params)\n",
    "meta_json = meta_res.json()\n",
    "meta_json[\"GET_META_INFO\"][\"METADATA_INF\"][\"TABLE_INF\"][\"OVERALL_TOTAL_NUMBER\"]"
   ]
  },
  {
   "cell_type": "markdown",
   "metadata": {},
   "source": [
    "10万件を超えるため、絞り込みによるクエリ"
   ]
  },
  {
   "cell_type": "code",
   "execution_count": 4,
   "metadata": {},
   "outputs": [
    {
     "data": {
      "text/plain": [
       "[{'@code': '2024000808',\n",
       "  '@name': '2024年8月',\n",
       "  '@level': '4',\n",
       "  '@parentCode': '2024000709'},\n",
       " {'@code': '2024000707',\n",
       "  '@name': '2024年7月',\n",
       "  '@level': '4',\n",
       "  '@parentCode': '2024000709'},\n",
       " {'@code': '2024000606',\n",
       "  '@name': '2024年6月',\n",
       "  '@level': '4',\n",
       "  '@parentCode': '2024000406'}]"
      ]
     },
     "execution_count": 4,
     "metadata": {},
     "output_type": "execute_result"
    }
   ],
   "source": [
    "meta_json[\"GET_META_INFO\"][\"METADATA_INF\"][\"CLASS_INF\"][\"CLASS_OBJ\"][3][\"CLASS\"][:3]"
   ]
  },
  {
   "cell_type": "code",
   "execution_count": 5,
   "metadata": {},
   "outputs": [],
   "source": [
    "csv_url = parse.urljoin(base_url, f\"/rest/{api_version}/app/getSimpleStatsData?\")\n",
    "params[\"cdTime\"] = \"2024000808\"\n",
    "csv = requests.get(csv_url, params=params).text\n",
    "data = pd.read_csv(StringIO(csv), skiprows=26)"
   ]
  },
  {
   "cell_type": "code",
   "execution_count": 6,
   "metadata": {},
   "outputs": [
    {
     "data": {
      "text/plain": [
       "(20484, 11)"
      ]
     },
     "execution_count": 6,
     "metadata": {},
     "output_type": "execute_result"
    }
   ],
   "source": [
    "data.shape"
   ]
  },
  {
   "cell_type": "code",
   "execution_count": 7,
   "metadata": {},
   "outputs": [
    {
     "data": {
      "text/html": [
       "<div>\n",
       "<style scoped>\n",
       "    .dataframe tbody tr th:only-of-type {\n",
       "        vertical-align: middle;\n",
       "    }\n",
       "\n",
       "    .dataframe tbody tr th {\n",
       "        vertical-align: top;\n",
       "    }\n",
       "\n",
       "    .dataframe thead th {\n",
       "        text-align: right;\n",
       "    }\n",
       "</style>\n",
       "<table border=\"1\" class=\"dataframe\">\n",
       "  <thead>\n",
       "    <tr style=\"text-align: right;\">\n",
       "      <th></th>\n",
       "      <th>tab_code</th>\n",
       "      <th>表章項目</th>\n",
       "      <th>cat01_code</th>\n",
       "      <th>2020年基準品目</th>\n",
       "      <th>area_code</th>\n",
       "      <th>地域（2020年基準）</th>\n",
       "      <th>time_code</th>\n",
       "      <th>時間軸（年・月）</th>\n",
       "      <th>unit</th>\n",
       "      <th>value</th>\n",
       "      <th>annotation</th>\n",
       "    </tr>\n",
       "  </thead>\n",
       "  <tbody>\n",
       "    <tr>\n",
       "      <th>0</th>\n",
       "      <td>1</td>\n",
       "      <td>指数</td>\n",
       "      <td>1</td>\n",
       "      <td>0001 総合</td>\n",
       "      <td>13A01</td>\n",
       "      <td>13100 東京都区部</td>\n",
       "      <td>2024000808</td>\n",
       "      <td>2024年8月</td>\n",
       "      <td>NaN</td>\n",
       "      <td>108.4</td>\n",
       "      <td>NaN</td>\n",
       "    </tr>\n",
       "    <tr>\n",
       "      <th>1</th>\n",
       "      <td>1</td>\n",
       "      <td>指数</td>\n",
       "      <td>1</td>\n",
       "      <td>0001 総合</td>\n",
       "      <td>00000</td>\n",
       "      <td>全国</td>\n",
       "      <td>2024000808</td>\n",
       "      <td>2024年8月</td>\n",
       "      <td>NaN</td>\n",
       "      <td>109.1</td>\n",
       "      <td>NaN</td>\n",
       "    </tr>\n",
       "    <tr>\n",
       "      <th>2</th>\n",
       "      <td>1</td>\n",
       "      <td>指数</td>\n",
       "      <td>1</td>\n",
       "      <td>0001 総合</td>\n",
       "      <td>00012</td>\n",
       "      <td>大都市</td>\n",
       "      <td>2024000808</td>\n",
       "      <td>2024年8月</td>\n",
       "      <td>NaN</td>\n",
       "      <td>108.9</td>\n",
       "      <td>NaN</td>\n",
       "    </tr>\n",
       "    <tr>\n",
       "      <th>3</th>\n",
       "      <td>1</td>\n",
       "      <td>指数</td>\n",
       "      <td>1</td>\n",
       "      <td>0001 総合</td>\n",
       "      <td>00013</td>\n",
       "      <td>中都市</td>\n",
       "      <td>2024000808</td>\n",
       "      <td>2024年8月</td>\n",
       "      <td>NaN</td>\n",
       "      <td>108.9</td>\n",
       "      <td>NaN</td>\n",
       "    </tr>\n",
       "    <tr>\n",
       "      <th>4</th>\n",
       "      <td>1</td>\n",
       "      <td>指数</td>\n",
       "      <td>1</td>\n",
       "      <td>0001 総合</td>\n",
       "      <td>00018</td>\n",
       "      <td>小都市Ａ</td>\n",
       "      <td>2024000808</td>\n",
       "      <td>2024年8月</td>\n",
       "      <td>NaN</td>\n",
       "      <td>109.3</td>\n",
       "      <td>NaN</td>\n",
       "    </tr>\n",
       "  </tbody>\n",
       "</table>\n",
       "</div>"
      ],
      "text/plain": [
       "   tab_code 表章項目  cat01_code 2020年基準品目 area_code  地域（2020年基準）   time_code  \\\n",
       "0         1   指数           1   0001 総合     13A01  13100 東京都区部  2024000808   \n",
       "1         1   指数           1   0001 総合     00000           全国  2024000808   \n",
       "2         1   指数           1   0001 総合     00012          大都市  2024000808   \n",
       "3         1   指数           1   0001 総合     00013          中都市  2024000808   \n",
       "4         1   指数           1   0001 総合     00018         小都市Ａ  2024000808   \n",
       "\n",
       "  時間軸（年・月） unit  value  annotation  \n",
       "0  2024年8月  NaN  108.4         NaN  \n",
       "1  2024年8月  NaN  109.1         NaN  \n",
       "2  2024年8月  NaN  108.9         NaN  \n",
       "3  2024年8月  NaN  108.9         NaN  \n",
       "4  2024年8月  NaN  109.3         NaN  "
      ]
     },
     "execution_count": 7,
     "metadata": {},
     "output_type": "execute_result"
    }
   ],
   "source": [
    "data.head()"
   ]
  },
  {
   "cell_type": "code",
   "execution_count": 8,
   "metadata": {},
   "outputs": [
    {
     "data": {
      "text/html": [
       "<div>\n",
       "<style scoped>\n",
       "    .dataframe tbody tr th:only-of-type {\n",
       "        vertical-align: middle;\n",
       "    }\n",
       "\n",
       "    .dataframe tbody tr th {\n",
       "        vertical-align: top;\n",
       "    }\n",
       "\n",
       "    .dataframe thead th {\n",
       "        text-align: right;\n",
       "    }\n",
       "</style>\n",
       "<table border=\"1\" class=\"dataframe\">\n",
       "  <thead>\n",
       "    <tr style=\"text-align: right;\">\n",
       "      <th></th>\n",
       "      <th>tab_code</th>\n",
       "      <th>表章項目</th>\n",
       "      <th>cat01_code</th>\n",
       "      <th>2020年基準品目</th>\n",
       "      <th>area_code</th>\n",
       "      <th>地域（2020年基準）</th>\n",
       "      <th>time_code</th>\n",
       "      <th>時間軸（年・月）</th>\n",
       "      <th>unit</th>\n",
       "      <th>value</th>\n",
       "      <th>annotation</th>\n",
       "    </tr>\n",
       "  </thead>\n",
       "  <tbody>\n",
       "    <tr>\n",
       "      <th>20479</th>\n",
       "      <td>3</td>\n",
       "      <td>前年同月比</td>\n",
       "      <td>238</td>\n",
       "      <td>0238 半耐久消費財</td>\n",
       "      <td>00000</td>\n",
       "      <td>全国</td>\n",
       "      <td>2024000808</td>\n",
       "      <td>2024年8月</td>\n",
       "      <td>%</td>\n",
       "      <td>2.5</td>\n",
       "      <td>NaN</td>\n",
       "    </tr>\n",
       "    <tr>\n",
       "      <th>20480</th>\n",
       "      <td>3</td>\n",
       "      <td>前年同月比</td>\n",
       "      <td>239</td>\n",
       "      <td>0239 非耐久消費財</td>\n",
       "      <td>13A01</td>\n",
       "      <td>13100 東京都区部</td>\n",
       "      <td>2024000808</td>\n",
       "      <td>2024年8月</td>\n",
       "      <td>%</td>\n",
       "      <td>5.6</td>\n",
       "      <td>NaN</td>\n",
       "    </tr>\n",
       "    <tr>\n",
       "      <th>20481</th>\n",
       "      <td>3</td>\n",
       "      <td>前年同月比</td>\n",
       "      <td>239</td>\n",
       "      <td>0239 非耐久消費財</td>\n",
       "      <td>00000</td>\n",
       "      <td>全国</td>\n",
       "      <td>2024000808</td>\n",
       "      <td>2024年8月</td>\n",
       "      <td>%</td>\n",
       "      <td>5.1</td>\n",
       "      <td>NaN</td>\n",
       "    </tr>\n",
       "    <tr>\n",
       "      <th>20482</th>\n",
       "      <td>3</td>\n",
       "      <td>前年同月比</td>\n",
       "      <td>240</td>\n",
       "      <td>0240 公共料金</td>\n",
       "      <td>13A01</td>\n",
       "      <td>13100 東京都区部</td>\n",
       "      <td>2024000808</td>\n",
       "      <td>2024年8月</td>\n",
       "      <td>%</td>\n",
       "      <td>4.2</td>\n",
       "      <td>NaN</td>\n",
       "    </tr>\n",
       "    <tr>\n",
       "      <th>20483</th>\n",
       "      <td>3</td>\n",
       "      <td>前年同月比</td>\n",
       "      <td>240</td>\n",
       "      <td>0240 公共料金</td>\n",
       "      <td>00000</td>\n",
       "      <td>全国</td>\n",
       "      <td>2024000808</td>\n",
       "      <td>2024年8月</td>\n",
       "      <td>%</td>\n",
       "      <td>5.7</td>\n",
       "      <td>NaN</td>\n",
       "    </tr>\n",
       "  </tbody>\n",
       "</table>\n",
       "</div>"
      ],
      "text/plain": [
       "       tab_code   表章項目  cat01_code    2020年基準品目 area_code  地域（2020年基準）  \\\n",
       "20479         3  前年同月比         238  0238 半耐久消費財     00000           全国   \n",
       "20480         3  前年同月比         239  0239 非耐久消費財     13A01  13100 東京都区部   \n",
       "20481         3  前年同月比         239  0239 非耐久消費財     00000           全国   \n",
       "20482         3  前年同月比         240    0240 公共料金     13A01  13100 東京都区部   \n",
       "20483         3  前年同月比         240    0240 公共料金     00000           全国   \n",
       "\n",
       "        time_code 時間軸（年・月） unit  value  annotation  \n",
       "20479  2024000808  2024年8月    %    2.5         NaN  \n",
       "20480  2024000808  2024年8月    %    5.6         NaN  \n",
       "20481  2024000808  2024年8月    %    5.1         NaN  \n",
       "20482  2024000808  2024年8月    %    4.2         NaN  \n",
       "20483  2024000808  2024年8月    %    5.7         NaN  "
      ]
     },
     "execution_count": 8,
     "metadata": {},
     "output_type": "execute_result"
    }
   ],
   "source": [
    "data.tail()"
   ]
  },
  {
   "cell_type": "code",
   "execution_count": null,
   "metadata": {},
   "outputs": [],
   "source": []
  }
 ],
 "metadata": {
  "kernelspec": {
   "display_name": ".venv",
   "language": "python",
   "name": "python3"
  },
  "language_info": {
   "codemirror_mode": {
    "name": "ipython",
    "version": 3
   },
   "file_extension": ".py",
   "mimetype": "text/x-python",
   "name": "python",
   "nbconvert_exporter": "python",
   "pygments_lexer": "ipython3",
   "version": "3.12.5"
  }
 },
 "nbformat": 4,
 "nbformat_minor": 2
}
